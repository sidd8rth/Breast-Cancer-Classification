{
 "cells": [
  {
   "cell_type": "code",
   "execution_count": 1,
   "metadata": {
    "id": "9h9VwWrbhEDP"
   },
   "outputs": [],
   "source": [
    "import pandas as pd\n",
    "import numpy as np\n",
    "\n",
    "from sklearn.datasets import load_breast_cancer\n",
    "from sklearn.preprocessing import StandardScaler\n",
    "\n",
    "from keras.models import Sequential\n",
    "from keras.layers import Dense"
   ]
  },
  {
   "cell_type": "code",
   "execution_count": 2,
   "metadata": {
    "id": "PKJ7JWdAmtg8"
   },
   "outputs": [],
   "source": [
    "data = load_breast_cancer()"
   ]
  },
  {
   "cell_type": "code",
   "execution_count": 3,
   "metadata": {
    "id": "epdBTC-im4Rb"
   },
   "outputs": [
    {
     "data": {
      "text/plain": [
       "dict_keys(['data', 'target', 'frame', 'target_names', 'DESCR', 'feature_names', 'filename'])"
      ]
     },
     "execution_count": 3,
     "metadata": {},
     "output_type": "execute_result"
    }
   ],
   "source": [
    "data.keys()"
   ]
  },
  {
   "cell_type": "code",
   "execution_count": 4,
   "metadata": {
    "id": "Iv9QGESOm6ni"
   },
   "outputs": [
    {
     "name": "stdout",
     "output_type": "stream",
     "text": [
      ".. _breast_cancer_dataset:\n",
      "\n",
      "Breast cancer wisconsin (diagnostic) dataset\n",
      "--------------------------------------------\n",
      "\n",
      "**Data Set Characteristics:**\n",
      "\n",
      "    :Number of Instances: 569\n",
      "\n",
      "    :Number of Attributes: 30 numeric, predictive attributes and the class\n",
      "\n",
      "    :Attribute Information:\n",
      "        - radius (mean of distances from center to points on the perimeter)\n",
      "        - texture (standard deviation of gray-scale values)\n",
      "        - perimeter\n",
      "        - area\n",
      "        - smoothness (local variation in radius lengths)\n",
      "        - compactness (perimeter^2 / area - 1.0)\n",
      "        - concavity (severity of concave portions of the contour)\n",
      "        - concave points (number of concave portions of the contour)\n",
      "        - symmetry\n",
      "        - fractal dimension (\"coastline approximation\" - 1)\n",
      "\n",
      "        The mean, standard error, and \"worst\" or largest (mean of the three\n",
      "        worst/largest values) of these features were computed for each image,\n",
      "        resulting in 30 features.  For instance, field 0 is Mean Radius, field\n",
      "        10 is Radius SE, field 20 is Worst Radius.\n",
      "\n",
      "        - class:\n",
      "                - WDBC-Malignant\n",
      "                - WDBC-Benign\n",
      "\n",
      "    :Summary Statistics:\n",
      "\n",
      "    ===================================== ====== ======\n",
      "                                           Min    Max\n",
      "    ===================================== ====== ======\n",
      "    radius (mean):                        6.981  28.11\n",
      "    texture (mean):                       9.71   39.28\n",
      "    perimeter (mean):                     43.79  188.5\n",
      "    area (mean):                          143.5  2501.0\n",
      "    smoothness (mean):                    0.053  0.163\n",
      "    compactness (mean):                   0.019  0.345\n",
      "    concavity (mean):                     0.0    0.427\n",
      "    concave points (mean):                0.0    0.201\n",
      "    symmetry (mean):                      0.106  0.304\n",
      "    fractal dimension (mean):             0.05   0.097\n",
      "    radius (standard error):              0.112  2.873\n",
      "    texture (standard error):             0.36   4.885\n",
      "    perimeter (standard error):           0.757  21.98\n",
      "    area (standard error):                6.802  542.2\n",
      "    smoothness (standard error):          0.002  0.031\n",
      "    compactness (standard error):         0.002  0.135\n",
      "    concavity (standard error):           0.0    0.396\n",
      "    concave points (standard error):      0.0    0.053\n",
      "    symmetry (standard error):            0.008  0.079\n",
      "    fractal dimension (standard error):   0.001  0.03\n",
      "    radius (worst):                       7.93   36.04\n",
      "    texture (worst):                      12.02  49.54\n",
      "    perimeter (worst):                    50.41  251.2\n",
      "    area (worst):                         185.2  4254.0\n",
      "    smoothness (worst):                   0.071  0.223\n",
      "    compactness (worst):                  0.027  1.058\n",
      "    concavity (worst):                    0.0    1.252\n",
      "    concave points (worst):               0.0    0.291\n",
      "    symmetry (worst):                     0.156  0.664\n",
      "    fractal dimension (worst):            0.055  0.208\n",
      "    ===================================== ====== ======\n",
      "\n",
      "    :Missing Attribute Values: None\n",
      "\n",
      "    :Class Distribution: 212 - Malignant, 357 - Benign\n",
      "\n",
      "    :Creator:  Dr. William H. Wolberg, W. Nick Street, Olvi L. Mangasarian\n",
      "\n",
      "    :Donor: Nick Street\n",
      "\n",
      "    :Date: November, 1995\n",
      "\n",
      "This is a copy of UCI ML Breast Cancer Wisconsin (Diagnostic) datasets.\n",
      "https://goo.gl/U2Uwz2\n",
      "\n",
      "Features are computed from a digitized image of a fine needle\n",
      "aspirate (FNA) of a breast mass.  They describe\n",
      "characteristics of the cell nuclei present in the image.\n",
      "\n",
      "Separating plane described above was obtained using\n",
      "Multisurface Method-Tree (MSM-T) [K. P. Bennett, \"Decision Tree\n",
      "Construction Via Linear Programming.\" Proceedings of the 4th\n",
      "Midwest Artificial Intelligence and Cognitive Science Society,\n",
      "pp. 97-101, 1992], a classification method which uses linear\n",
      "programming to construct a decision tree.  Relevant features\n",
      "were selected using an exhaustive search in the space of 1-4\n",
      "features and 1-3 separating planes.\n",
      "\n",
      "The actual linear program used to obtain the separating plane\n",
      "in the 3-dimensional space is that described in:\n",
      "[K. P. Bennett and O. L. Mangasarian: \"Robust Linear\n",
      "Programming Discrimination of Two Linearly Inseparable Sets\",\n",
      "Optimization Methods and Software 1, 1992, 23-34].\n",
      "\n",
      "This database is also available through the UW CS ftp server:\n",
      "\n",
      "ftp ftp.cs.wisc.edu\n",
      "cd math-prog/cpo-dataset/machine-learn/WDBC/\n",
      "\n",
      ".. topic:: References\n",
      "\n",
      "   - W.N. Street, W.H. Wolberg and O.L. Mangasarian. Nuclear feature extraction \n",
      "     for breast tumor diagnosis. IS&T/SPIE 1993 International Symposium on \n",
      "     Electronic Imaging: Science and Technology, volume 1905, pages 861-870,\n",
      "     San Jose, CA, 1993.\n",
      "   - O.L. Mangasarian, W.N. Street and W.H. Wolberg. Breast cancer diagnosis and \n",
      "     prognosis via linear programming. Operations Research, 43(4), pages 570-577, \n",
      "     July-August 1995.\n",
      "   - W.H. Wolberg, W.N. Street, and O.L. Mangasarian. Machine learning techniques\n",
      "     to diagnose breast cancer from fine-needle aspirates. Cancer Letters 77 (1994) \n",
      "     163-171.\n"
     ]
    }
   ],
   "source": [
    "print(data['DESCR'])"
   ]
  },
  {
   "cell_type": "code",
   "execution_count": 5,
   "metadata": {
    "id": "LD9ptFjvnuyz"
   },
   "outputs": [
    {
     "data": {
      "text/plain": [
       "(569, 30)"
      ]
     },
     "execution_count": 5,
     "metadata": {},
     "output_type": "execute_result"
    }
   ],
   "source": [
    "data['data'].shape"
   ]
  },
  {
   "cell_type": "code",
   "execution_count": 6,
   "metadata": {
    "id": "gIOjFb1ypLqB"
   },
   "outputs": [
    {
     "data": {
      "text/plain": [
       "array(['mean radius', 'mean texture', 'mean perimeter', 'mean area',\n",
       "       'mean smoothness', 'mean compactness', 'mean concavity',\n",
       "       'mean concave points', 'mean symmetry', 'mean fractal dimension',\n",
       "       'radius error', 'texture error', 'perimeter error', 'area error',\n",
       "       'smoothness error', 'compactness error', 'concavity error',\n",
       "       'concave points error', 'symmetry error',\n",
       "       'fractal dimension error', 'worst radius', 'worst texture',\n",
       "       'worst perimeter', 'worst area', 'worst smoothness',\n",
       "       'worst compactness', 'worst concavity', 'worst concave points',\n",
       "       'worst symmetry', 'worst fractal dimension'], dtype='<U23')"
      ]
     },
     "execution_count": 6,
     "metadata": {},
     "output_type": "execute_result"
    }
   ],
   "source": [
    "data['feature_names']"
   ]
  },
  {
   "cell_type": "code",
   "execution_count": 7,
   "metadata": {
    "id": "_Or3hS_KpeR0"
   },
   "outputs": [
    {
     "data": {
      "text/plain": [
       "array([1.799e+01, 1.038e+01, 1.228e+02, 1.001e+03, 1.184e-01, 2.776e-01,\n",
       "       3.001e-01, 1.471e-01, 2.419e-01, 7.871e-02, 1.095e+00, 9.053e-01,\n",
       "       8.589e+00, 1.534e+02, 6.399e-03, 4.904e-02, 5.373e-02, 1.587e-02,\n",
       "       3.003e-02, 6.193e-03, 2.538e+01, 1.733e+01, 1.846e+02, 2.019e+03,\n",
       "       1.622e-01, 6.656e-01, 7.119e-01, 2.654e-01, 4.601e-01, 1.189e-01])"
      ]
     },
     "execution_count": 7,
     "metadata": {},
     "output_type": "execute_result"
    }
   ],
   "source": [
    "data['data'][0]"
   ]
  },
  {
   "cell_type": "code",
   "execution_count": 8,
   "metadata": {
    "id": "66RDgPoPpkDH"
   },
   "outputs": [
    {
     "name": "stdout",
     "output_type": "stream",
     "text": [
      "mean radius : 17.99\n",
      "mean texture : 10.38\n",
      "mean perimeter : 122.8\n",
      "mean area : 1001.0\n",
      "mean smoothness : 0.1184\n",
      "mean compactness : 0.2776\n",
      "mean concavity : 0.3001\n",
      "mean concave points : 0.1471\n",
      "mean symmetry : 0.2419\n",
      "mean fractal dimension : 0.07871\n",
      "radius error : 1.095\n",
      "texture error : 0.9053\n",
      "perimeter error : 8.589\n",
      "area error : 153.4\n",
      "smoothness error : 0.006399\n",
      "compactness error : 0.04904\n",
      "concavity error : 0.05373\n",
      "concave points error : 0.01587\n",
      "symmetry error : 0.03003\n",
      "fractal dimension error : 0.006193\n",
      "worst radius : 25.38\n",
      "worst texture : 17.33\n",
      "worst perimeter : 184.6\n",
      "worst area : 2019.0\n",
      "worst smoothness : 0.1622\n",
      "worst compactness : 0.6656\n",
      "worst concavity : 0.7119\n",
      "worst concave points : 0.2654\n",
      "worst symmetry : 0.4601\n",
      "worst fractal dimension : 0.1189\n"
     ]
    }
   ],
   "source": [
    "j = 0\n",
    "for i in data['feature_names']:\n",
    "  print(i,\":\",data['data'][0][j])\n",
    "  j+=1"
   ]
  },
  {
   "cell_type": "code",
   "execution_count": 9,
   "metadata": {
    "id": "Nzk4dIoOqu1t"
   },
   "outputs": [],
   "source": [
    "feature = data['data']"
   ]
  },
  {
   "cell_type": "code",
   "execution_count": 10,
   "metadata": {
    "id": "KqwgdGdzp0ZX"
   },
   "outputs": [],
   "source": [
    "label = data['target']"
   ]
  },
  {
   "cell_type": "code",
   "execution_count": 11,
   "metadata": {
    "id": "UmP62MQWqiK1"
   },
   "outputs": [
    {
     "data": {
      "text/plain": [
       "array(['malignant', 'benign'], dtype='<U9')"
      ]
     },
     "execution_count": 11,
     "metadata": {},
     "output_type": "execute_result"
    }
   ],
   "source": [
    "data['target_names']"
   ]
  },
  {
   "cell_type": "code",
   "execution_count": 12,
   "metadata": {
    "id": "apyfDrfeqnC1"
   },
   "outputs": [
    {
     "data": {
      "text/plain": [
       "(569, 30)"
      ]
     },
     "execution_count": 12,
     "metadata": {},
     "output_type": "execute_result"
    }
   ],
   "source": [
    "feature.shape"
   ]
  },
  {
   "cell_type": "code",
   "execution_count": 13,
   "metadata": {
    "id": "Kn1TAFLfsQBc"
   },
   "outputs": [
    {
     "data": {
      "text/plain": [
       "(569,)"
      ]
     },
     "execution_count": 13,
     "metadata": {},
     "output_type": "execute_result"
    }
   ],
   "source": [
    "label.shape"
   ]
  },
  {
   "cell_type": "code",
   "execution_count": 14,
   "metadata": {
    "id": "LoUal6dDsr0T"
   },
   "outputs": [],
   "source": [
    "scale = StandardScaler()\n",
    "\n",
    "feature = scale.fit_transform(feature)"
   ]
  },
  {
   "cell_type": "code",
   "execution_count": 15,
   "metadata": {
    "id": "r_FOyQMHt8PT"
   },
   "outputs": [
    {
     "name": "stdout",
     "output_type": "stream",
     "text": [
      "mean radius : 1.0970639814699807\n",
      "mean texture : -2.0733350146975935\n",
      "mean perimeter : 1.2699336881399383\n",
      "mean area : 0.9843749048031144\n",
      "mean smoothness : 1.568466329243428\n",
      "mean compactness : 3.2835146709868264\n",
      "mean concavity : 2.652873983743168\n",
      "mean concave points : 2.532475216403245\n",
      "mean symmetry : 2.2175150059646405\n",
      "mean fractal dimension : 2.255746885296269\n",
      "radius error : 2.4897339267376193\n",
      "texture error : -0.5652650590684639\n",
      "perimeter error : 2.833030865855184\n",
      "area error : 2.4875775569611043\n",
      "smoothness error : -0.21400164666895383\n",
      "compactness error : 1.3168615683959484\n",
      "concavity error : 0.72402615808036\n",
      "concave points error : 0.6608199414286064\n",
      "symmetry error : 1.1487566671861758\n",
      "fractal dimension error : 0.9070830809973359\n",
      "worst radius : 1.8866896251792757\n",
      "worst texture : -1.3592934737640827\n",
      "worst perimeter : 2.3036006236225606\n",
      "worst area : 2.0012374893299207\n",
      "worst smoothness : 1.3076862710715387\n",
      "worst compactness : 2.616665023512603\n",
      "worst concavity : 2.1095263465722556\n",
      "worst concave points : 2.296076127561788\n",
      "worst symmetry : 2.750622244124955\n",
      "worst fractal dimension : 1.9370146123781782\n"
     ]
    }
   ],
   "source": [
    "j = 0\n",
    "for i in data['feature_names']:\n",
    "  print(i,\":\",feature[0][j])\n",
    "  j+=1"
   ]
  },
  {
   "cell_type": "code",
   "execution_count": 16,
   "metadata": {
    "id": "AKKH4JKKuRTt"
   },
   "outputs": [
    {
     "name": "stdout",
     "output_type": "stream",
     "text": [
      "[-1.80840125  1.22179204 -1.81438851 -1.34778924 -3.11208479 -1.15075248\n",
      " -1.11487284 -1.26181958 -0.8200699  -0.56103238 -0.07027874  0.3830925\n",
      " -0.15744905 -0.46615196  0.04934236 -1.16351619 -1.05750068 -1.91344745\n",
      "  0.75282996 -0.382754   -1.41089258  0.76418957 -1.43273495 -1.07581292\n",
      " -1.85901852 -1.2075525  -1.30583065 -1.74506282 -0.04813821 -0.75120669]\n",
      "benign 1\n"
     ]
    }
   ],
   "source": [
    "print(feature[568])\n",
    "print(data['target_names'][label[568]],label[568])\n"
   ]
  },
  {
   "cell_type": "code",
   "execution_count": 17,
   "metadata": {
    "id": "Ms1YidTfusxT"
   },
   "outputs": [],
   "source": [
    "df_frt = pd.DataFrame(feature , columns = data['feature_names'])\n",
    "df_lbl = pd.DataFrame(label , columns = ['label'])\n",
    "df = pd.concat([df_frt, df_lbl], axis=1)\n",
    "df = df.sample(frac = 1)\n",
    "\n",
    "feature = df.values[ : , : 30]\n",
    "label = df.values[ : ,30: ]"
   ]
  },
  {
   "cell_type": "code",
   "execution_count": 18,
   "metadata": {
    "id": "70TWMaSt-W4y"
   },
   "outputs": [
    {
     "data": {
      "text/html": [
       "<div>\n",
       "<style scoped>\n",
       "    .dataframe tbody tr th:only-of-type {\n",
       "        vertical-align: middle;\n",
       "    }\n",
       "\n",
       "    .dataframe tbody tr th {\n",
       "        vertical-align: top;\n",
       "    }\n",
       "\n",
       "    .dataframe thead th {\n",
       "        text-align: right;\n",
       "    }\n",
       "</style>\n",
       "<table border=\"1\" class=\"dataframe\">\n",
       "  <thead>\n",
       "    <tr style=\"text-align: right;\">\n",
       "      <th></th>\n",
       "      <th>mean radius</th>\n",
       "      <th>mean texture</th>\n",
       "      <th>mean perimeter</th>\n",
       "      <th>mean area</th>\n",
       "      <th>mean smoothness</th>\n",
       "      <th>mean compactness</th>\n",
       "      <th>mean concavity</th>\n",
       "      <th>mean concave points</th>\n",
       "      <th>mean symmetry</th>\n",
       "      <th>mean fractal dimension</th>\n",
       "      <th>...</th>\n",
       "      <th>worst texture</th>\n",
       "      <th>worst perimeter</th>\n",
       "      <th>worst area</th>\n",
       "      <th>worst smoothness</th>\n",
       "      <th>worst compactness</th>\n",
       "      <th>worst concavity</th>\n",
       "      <th>worst concave points</th>\n",
       "      <th>worst symmetry</th>\n",
       "      <th>worst fractal dimension</th>\n",
       "      <th>label</th>\n",
       "    </tr>\n",
       "  </thead>\n",
       "  <tbody>\n",
       "    <tr>\n",
       "      <th>234</th>\n",
       "      <td>-1.295188</td>\n",
       "      <td>-0.786467</td>\n",
       "      <td>-1.308161</td>\n",
       "      <td>-1.067361</td>\n",
       "      <td>-0.834079</td>\n",
       "      <td>-1.202869</td>\n",
       "      <td>-0.907465</td>\n",
       "      <td>-0.831834</td>\n",
       "      <td>-0.951504</td>\n",
       "      <td>0.174704</td>\n",
       "      <td>...</td>\n",
       "      <td>-1.061289</td>\n",
       "      <td>-1.236744</td>\n",
       "      <td>-0.957505</td>\n",
       "      <td>0.790423</td>\n",
       "      <td>-1.012194</td>\n",
       "      <td>-0.962280</td>\n",
       "      <td>-0.645398</td>\n",
       "      <td>-0.232565</td>\n",
       "      <td>-0.120021</td>\n",
       "      <td>1</td>\n",
       "    </tr>\n",
       "    <tr>\n",
       "      <th>84</th>\n",
       "      <td>-0.604181</td>\n",
       "      <td>-0.846971</td>\n",
       "      <td>-0.618637</td>\n",
       "      <td>-0.601781</td>\n",
       "      <td>0.061894</td>\n",
       "      <td>-0.619543</td>\n",
       "      <td>-0.593716</td>\n",
       "      <td>-0.781278</td>\n",
       "      <td>0.976194</td>\n",
       "      <td>-0.441954</td>\n",
       "      <td>...</td>\n",
       "      <td>-0.126566</td>\n",
       "      <td>-0.580264</td>\n",
       "      <td>-0.549670</td>\n",
       "      <td>0.233707</td>\n",
       "      <td>-0.343293</td>\n",
       "      <td>-0.218232</td>\n",
       "      <td>-0.582969</td>\n",
       "      <td>0.773694</td>\n",
       "      <td>-0.260777</td>\n",
       "      <td>1</td>\n",
       "    </tr>\n",
       "    <tr>\n",
       "      <th>446</th>\n",
       "      <td>1.028901</td>\n",
       "      <td>2.033938</td>\n",
       "      <td>1.043388</td>\n",
       "      <td>0.929199</td>\n",
       "      <td>0.256887</td>\n",
       "      <td>0.512808</td>\n",
       "      <td>1.016961</td>\n",
       "      <td>0.877275</td>\n",
       "      <td>-0.360051</td>\n",
       "      <td>-0.515669</td>\n",
       "      <td>...</td>\n",
       "      <td>2.094623</td>\n",
       "      <td>1.135996</td>\n",
       "      <td>0.978132</td>\n",
       "      <td>0.338913</td>\n",
       "      <td>0.775677</td>\n",
       "      <td>1.764105</td>\n",
       "      <td>1.254577</td>\n",
       "      <td>0.115258</td>\n",
       "      <td>0.377059</td>\n",
       "      <td>0</td>\n",
       "    </tr>\n",
       "    <tr>\n",
       "      <th>503</th>\n",
       "      <td>2.545536</td>\n",
       "      <td>0.125743</td>\n",
       "      <td>2.476807</td>\n",
       "      <td>2.921209</td>\n",
       "      <td>-0.209246</td>\n",
       "      <td>0.438898</td>\n",
       "      <td>0.989340</td>\n",
       "      <td>1.325317</td>\n",
       "      <td>-1.119447</td>\n",
       "      <td>-1.128074</td>\n",
       "      <td>...</td>\n",
       "      <td>-0.294295</td>\n",
       "      <td>3.104840</td>\n",
       "      <td>3.342525</td>\n",
       "      <td>-0.546572</td>\n",
       "      <td>0.688526</td>\n",
       "      <td>0.514350</td>\n",
       "      <td>1.702239</td>\n",
       "      <td>0.011720</td>\n",
       "      <td>-0.619317</td>\n",
       "      <td>0</td>\n",
       "    </tr>\n",
       "    <tr>\n",
       "      <th>56</th>\n",
       "      <td>1.443561</td>\n",
       "      <td>-0.167467</td>\n",
       "      <td>1.381147</td>\n",
       "      <td>1.413834</td>\n",
       "      <td>0.636199</td>\n",
       "      <td>0.423736</td>\n",
       "      <td>0.546150</td>\n",
       "      <td>1.058091</td>\n",
       "      <td>0.384741</td>\n",
       "      <td>-0.451877</td>\n",
       "      <td>...</td>\n",
       "      <td>0.401048</td>\n",
       "      <td>1.871706</td>\n",
       "      <td>2.222734</td>\n",
       "      <td>1.316453</td>\n",
       "      <td>0.616006</td>\n",
       "      <td>0.555129</td>\n",
       "      <td>1.438819</td>\n",
       "      <td>1.029304</td>\n",
       "      <td>-0.055738</td>\n",
       "      <td>0</td>\n",
       "    </tr>\n",
       "    <tr>\n",
       "      <th>...</th>\n",
       "      <td>...</td>\n",
       "      <td>...</td>\n",
       "      <td>...</td>\n",
       "      <td>...</td>\n",
       "      <td>...</td>\n",
       "      <td>...</td>\n",
       "      <td>...</td>\n",
       "      <td>...</td>\n",
       "      <td>...</td>\n",
       "      <td>...</td>\n",
       "      <td>...</td>\n",
       "      <td>...</td>\n",
       "      <td>...</td>\n",
       "      <td>...</td>\n",
       "      <td>...</td>\n",
       "      <td>...</td>\n",
       "      <td>...</td>\n",
       "      <td>...</td>\n",
       "      <td>...</td>\n",
       "      <td>...</td>\n",
       "      <td>...</td>\n",
       "    </tr>\n",
       "    <tr>\n",
       "      <th>399</th>\n",
       "      <td>-0.660984</td>\n",
       "      <td>-0.472313</td>\n",
       "      <td>-0.688248</td>\n",
       "      <td>-0.634204</td>\n",
       "      <td>-0.390718</td>\n",
       "      <td>-0.796360</td>\n",
       "      <td>-0.756680</td>\n",
       "      <td>-0.839314</td>\n",
       "      <td>0.129175</td>\n",
       "      <td>-0.369656</td>\n",
       "      <td>...</td>\n",
       "      <td>-0.193332</td>\n",
       "      <td>-0.633283</td>\n",
       "      <td>-0.560041</td>\n",
       "      <td>-0.349310</td>\n",
       "      <td>-0.519504</td>\n",
       "      <td>-0.610669</td>\n",
       "      <td>-0.929526</td>\n",
       "      <td>-0.196974</td>\n",
       "      <td>-0.151608</td>\n",
       "      <td>1</td>\n",
       "    </tr>\n",
       "    <tr>\n",
       "      <th>467</th>\n",
       "      <td>-1.266502</td>\n",
       "      <td>-0.276839</td>\n",
       "      <td>-1.273149</td>\n",
       "      <td>-1.048305</td>\n",
       "      <td>-0.942962</td>\n",
       "      <td>-0.948730</td>\n",
       "      <td>-0.929185</td>\n",
       "      <td>-1.113014</td>\n",
       "      <td>-0.480532</td>\n",
       "      <td>0.187463</td>\n",
       "      <td>...</td>\n",
       "      <td>-0.172162</td>\n",
       "      <td>-1.076794</td>\n",
       "      <td>-0.879630</td>\n",
       "      <td>0.281926</td>\n",
       "      <td>-0.819126</td>\n",
       "      <td>-0.998357</td>\n",
       "      <td>-1.364398</td>\n",
       "      <td>0.252769</td>\n",
       "      <td>-0.287930</td>\n",
       "      <td>1</td>\n",
       "    </tr>\n",
       "    <tr>\n",
       "      <th>384</th>\n",
       "      <td>-0.240643</td>\n",
       "      <td>-1.296095</td>\n",
       "      <td>-0.254516</td>\n",
       "      <td>-0.321637</td>\n",
       "      <td>-0.905956</td>\n",
       "      <td>-0.352327</td>\n",
       "      <td>-0.477457</td>\n",
       "      <td>-0.523080</td>\n",
       "      <td>-0.710542</td>\n",
       "      <td>-0.972138</td>\n",
       "      <td>...</td>\n",
       "      <td>-1.352780</td>\n",
       "      <td>-0.317851</td>\n",
       "      <td>-0.451578</td>\n",
       "      <td>-0.691230</td>\n",
       "      <td>0.090554</td>\n",
       "      <td>0.069140</td>\n",
       "      <td>-0.348327</td>\n",
       "      <td>-0.266539</td>\n",
       "      <td>-0.595488</td>\n",
       "      <td>1</td>\n",
       "    </tr>\n",
       "    <tr>\n",
       "      <th>38</th>\n",
       "      <td>0.245021</td>\n",
       "      <td>1.375378</td>\n",
       "      <td>0.147089</td>\n",
       "      <td>0.124887</td>\n",
       "      <td>-0.177222</td>\n",
       "      <td>-1.005016</td>\n",
       "      <td>-0.813805</td>\n",
       "      <td>-0.514052</td>\n",
       "      <td>-0.900391</td>\n",
       "      <td>-1.099722</td>\n",
       "      <td>...</td>\n",
       "      <td>-0.077713</td>\n",
       "      <td>-0.349126</td>\n",
       "      <td>-0.319559</td>\n",
       "      <td>-1.687620</td>\n",
       "      <td>-1.291078</td>\n",
       "      <td>-1.190786</td>\n",
       "      <td>-1.303644</td>\n",
       "      <td>-2.160960</td>\n",
       "      <td>-1.601839</td>\n",
       "      <td>0</td>\n",
       "    </tr>\n",
       "    <tr>\n",
       "      <th>225</th>\n",
       "      <td>0.060412</td>\n",
       "      <td>-1.354271</td>\n",
       "      <td>0.022283</td>\n",
       "      <td>-0.038933</td>\n",
       "      <td>0.192127</td>\n",
       "      <td>-0.532555</td>\n",
       "      <td>-0.396226</td>\n",
       "      <td>-0.074523</td>\n",
       "      <td>0.961590</td>\n",
       "      <td>-1.179108</td>\n",
       "      <td>...</td>\n",
       "      <td>-1.429316</td>\n",
       "      <td>0.093491</td>\n",
       "      <td>-0.012979</td>\n",
       "      <td>-0.116980</td>\n",
       "      <td>-0.647368</td>\n",
       "      <td>-0.522875</td>\n",
       "      <td>-0.089932</td>\n",
       "      <td>0.260858</td>\n",
       "      <td>-1.287078</td>\n",
       "      <td>1</td>\n",
       "    </tr>\n",
       "  </tbody>\n",
       "</table>\n",
       "<p>569 rows × 31 columns</p>\n",
       "</div>"
      ],
      "text/plain": [
       "     mean radius  mean texture  mean perimeter  mean area  mean smoothness  \\\n",
       "234    -1.295188     -0.786467       -1.308161  -1.067361        -0.834079   \n",
       "84     -0.604181     -0.846971       -0.618637  -0.601781         0.061894   \n",
       "446     1.028901      2.033938        1.043388   0.929199         0.256887   \n",
       "503     2.545536      0.125743        2.476807   2.921209        -0.209246   \n",
       "56      1.443561     -0.167467        1.381147   1.413834         0.636199   \n",
       "..           ...           ...             ...        ...              ...   \n",
       "399    -0.660984     -0.472313       -0.688248  -0.634204        -0.390718   \n",
       "467    -1.266502     -0.276839       -1.273149  -1.048305        -0.942962   \n",
       "384    -0.240643     -1.296095       -0.254516  -0.321637        -0.905956   \n",
       "38      0.245021      1.375378        0.147089   0.124887        -0.177222   \n",
       "225     0.060412     -1.354271        0.022283  -0.038933         0.192127   \n",
       "\n",
       "     mean compactness  mean concavity  mean concave points  mean symmetry  \\\n",
       "234         -1.202869       -0.907465            -0.831834      -0.951504   \n",
       "84          -0.619543       -0.593716            -0.781278       0.976194   \n",
       "446          0.512808        1.016961             0.877275      -0.360051   \n",
       "503          0.438898        0.989340             1.325317      -1.119447   \n",
       "56           0.423736        0.546150             1.058091       0.384741   \n",
       "..                ...             ...                  ...            ...   \n",
       "399         -0.796360       -0.756680            -0.839314       0.129175   \n",
       "467         -0.948730       -0.929185            -1.113014      -0.480532   \n",
       "384         -0.352327       -0.477457            -0.523080      -0.710542   \n",
       "38          -1.005016       -0.813805            -0.514052      -0.900391   \n",
       "225         -0.532555       -0.396226            -0.074523       0.961590   \n",
       "\n",
       "     mean fractal dimension  ...  worst texture  worst perimeter  worst area  \\\n",
       "234                0.174704  ...      -1.061289        -1.236744   -0.957505   \n",
       "84                -0.441954  ...      -0.126566        -0.580264   -0.549670   \n",
       "446               -0.515669  ...       2.094623         1.135996    0.978132   \n",
       "503               -1.128074  ...      -0.294295         3.104840    3.342525   \n",
       "56                -0.451877  ...       0.401048         1.871706    2.222734   \n",
       "..                      ...  ...            ...              ...         ...   \n",
       "399               -0.369656  ...      -0.193332        -0.633283   -0.560041   \n",
       "467                0.187463  ...      -0.172162        -1.076794   -0.879630   \n",
       "384               -0.972138  ...      -1.352780        -0.317851   -0.451578   \n",
       "38                -1.099722  ...      -0.077713        -0.349126   -0.319559   \n",
       "225               -1.179108  ...      -1.429316         0.093491   -0.012979   \n",
       "\n",
       "     worst smoothness  worst compactness  worst concavity  \\\n",
       "234          0.790423          -1.012194        -0.962280   \n",
       "84           0.233707          -0.343293        -0.218232   \n",
       "446          0.338913           0.775677         1.764105   \n",
       "503         -0.546572           0.688526         0.514350   \n",
       "56           1.316453           0.616006         0.555129   \n",
       "..                ...                ...              ...   \n",
       "399         -0.349310          -0.519504        -0.610669   \n",
       "467          0.281926          -0.819126        -0.998357   \n",
       "384         -0.691230           0.090554         0.069140   \n",
       "38          -1.687620          -1.291078        -1.190786   \n",
       "225         -0.116980          -0.647368        -0.522875   \n",
       "\n",
       "     worst concave points  worst symmetry  worst fractal dimension  label  \n",
       "234             -0.645398       -0.232565                -0.120021      1  \n",
       "84              -0.582969        0.773694                -0.260777      1  \n",
       "446              1.254577        0.115258                 0.377059      0  \n",
       "503              1.702239        0.011720                -0.619317      0  \n",
       "56               1.438819        1.029304                -0.055738      0  \n",
       "..                    ...             ...                      ...    ...  \n",
       "399             -0.929526       -0.196974                -0.151608      1  \n",
       "467             -1.364398        0.252769                -0.287930      1  \n",
       "384             -0.348327       -0.266539                -0.595488      1  \n",
       "38              -1.303644       -2.160960                -1.601839      0  \n",
       "225             -0.089932        0.260858                -1.287078      1  \n",
       "\n",
       "[569 rows x 31 columns]"
      ]
     },
     "execution_count": 18,
     "metadata": {},
     "output_type": "execute_result"
    }
   ],
   "source": [
    "df"
   ]
  },
  {
   "cell_type": "code",
   "execution_count": 19,
   "metadata": {
    "id": "OwHAshL8wxmf"
   },
   "outputs": [],
   "source": [
    "#500 Training\n",
    "X_train = feature[:500]\n",
    "y_train = label[:500]\n",
    "\n",
    "#35 Validation\n",
    "X_val = feature[500:535]\n",
    "y_val = label[500:535]\n",
    "\n",
    "#34 Testing\n",
    "X_test = feature[535:]\n",
    "y_test = label[535:]"
   ]
  },
  {
   "cell_type": "code",
   "execution_count": 20,
   "metadata": {
    "id": "Nzj-pXW1vIJg"
   },
   "outputs": [],
   "source": [
    "model = Sequential()\n",
    "\n",
    "model.add(Dense(32, activation = 'relu', input_dim = 30))\n",
    "model.add(Dense(64, activation = 'relu'))\n",
    "model.add(Dense(128, activation = 'relu'))\n",
    "model.add(Dense(64, activation = 'relu'))\n",
    "model.add(Dense(32, activation = 'relu'))\n",
    "model.add(Dense(1, activation = 'sigmoid'))\n",
    "\n",
    "model.compile( loss = 'binary_crossentropy' , optimizer = 'adam' , metrics = ['accuracy'])"
   ]
  },
  {
   "cell_type": "code",
   "execution_count": 21,
   "metadata": {
    "id": "Myowb1aFz353"
   },
   "outputs": [
    {
     "name": "stdout",
     "output_type": "stream",
     "text": [
      "Epoch 1/10\n",
      "100/100 [==============================] - 1s 3ms/step - loss: 0.2262 - accuracy: 0.9220 - val_loss: 0.0322 - val_accuracy: 1.0000\n",
      "Epoch 2/10\n",
      "100/100 [==============================] - 0s 1ms/step - loss: 0.0815 - accuracy: 0.9740 - val_loss: 0.0091 - val_accuracy: 1.0000\n",
      "Epoch 3/10\n",
      "100/100 [==============================] - 0s 1ms/step - loss: 0.0501 - accuracy: 0.9800 - val_loss: 0.0031 - val_accuracy: 1.0000\n",
      "Epoch 4/10\n",
      "100/100 [==============================] - 0s 2ms/step - loss: 0.0409 - accuracy: 0.9840 - val_loss: 0.0059 - val_accuracy: 1.0000\n",
      "Epoch 5/10\n",
      "100/100 [==============================] - 0s 2ms/step - loss: 0.0348 - accuracy: 0.9840 - val_loss: 0.0100 - val_accuracy: 1.0000\n",
      "Epoch 6/10\n",
      "100/100 [==============================] - 0s 1ms/step - loss: 0.0313 - accuracy: 0.9860 - val_loss: 0.0089 - val_accuracy: 1.0000\n",
      "Epoch 7/10\n",
      "100/100 [==============================] - 0s 1ms/step - loss: 0.0125 - accuracy: 0.9940 - val_loss: 0.0476 - val_accuracy: 0.9714\n",
      "Epoch 8/10\n",
      "100/100 [==============================] - 0s 2ms/step - loss: 0.0104 - accuracy: 0.9980 - val_loss: 0.0024 - val_accuracy: 1.0000\n",
      "Epoch 9/10\n",
      "100/100 [==============================] - 0s 1ms/step - loss: 0.0029 - accuracy: 1.0000 - val_loss: 0.0081 - val_accuracy: 1.0000\n",
      "Epoch 10/10\n",
      "100/100 [==============================] - 0s 1ms/step - loss: 9.3353e-04 - accuracy: 1.0000 - val_loss: 0.0049 - val_accuracy: 1.0000\n"
     ]
    },
    {
     "data": {
      "text/plain": [
       "<keras.callbacks.History at 0x2ec591e9c10>"
      ]
     },
     "execution_count": 21,
     "metadata": {},
     "output_type": "execute_result"
    }
   ],
   "source": [
    "model.fit( X_train , y_train, epochs = 10, batch_size = 5, validation_data = (X_val, y_val))"
   ]
  },
  {
   "cell_type": "code",
   "execution_count": 22,
   "metadata": {
    "id": "WjQrOpwc2S03"
   },
   "outputs": [
    {
     "name": "stdout",
     "output_type": "stream",
     "text": [
      "2/2 [==============================] - 0s 5ms/step - loss: 3.3223e-04 - accuracy: 1.0000\n"
     ]
    },
    {
     "data": {
      "text/plain": [
       "[0.00033222945057787, 1.0]"
      ]
     },
     "execution_count": 22,
     "metadata": {},
     "output_type": "execute_result"
    }
   ],
   "source": [
    "model.evaluate(X_test , y_test)"
   ]
  },
  {
   "cell_type": "code",
   "execution_count": 23,
   "metadata": {
    "id": "Iw4189HY6bC0"
   },
   "outputs": [
    {
     "name": "stdout",
     "output_type": "stream",
     "text": [
      "2/2 [==============================] - 0s 3ms/step - loss: 0.0049 - accuracy: 1.0000\n"
     ]
    },
    {
     "data": {
      "text/plain": [
       "[0.004938742145895958, 1.0]"
      ]
     },
     "execution_count": 23,
     "metadata": {},
     "output_type": "execute_result"
    }
   ],
   "source": [
    "model.evaluate(X_val , y_val)"
   ]
  },
  {
   "cell_type": "code",
   "execution_count": 24,
   "metadata": {
    "id": "GVKgag0986kX"
   },
   "outputs": [
    {
     "name": "stdout",
     "output_type": "stream",
     "text": [
      "-Malignant\n",
      "*Melignant\n",
      "-----------\n",
      "-Benign\n",
      "*Banign\n",
      "-----------\n",
      "-Malignant\n",
      "*Melignant\n",
      "-----------\n",
      "-Benign\n",
      "*Banign\n",
      "-----------\n",
      "-Benign\n",
      "*Banign\n",
      "-----------\n",
      "-Benign\n",
      "*Banign\n",
      "-----------\n",
      "-Malignant\n",
      "*Melignant\n",
      "-----------\n",
      "-Benign\n",
      "*Banign\n",
      "-----------\n",
      "-Benign\n",
      "*Banign\n",
      "-----------\n",
      "-Malignant\n",
      "*Melignant\n",
      "-----------\n",
      "-Benign\n",
      "*Banign\n",
      "-----------\n",
      "-Malignant\n",
      "*Melignant\n",
      "-----------\n",
      "-Benign\n",
      "*Banign\n",
      "-----------\n",
      "-Benign\n",
      "*Banign\n",
      "-----------\n",
      "-Malignant\n",
      "*Melignant\n",
      "-----------\n",
      "-Malignant\n",
      "*Melignant\n",
      "-----------\n",
      "-Malignant\n",
      "*Melignant\n",
      "-----------\n",
      "-Malignant\n",
      "*Melignant\n",
      "-----------\n",
      "-Benign\n",
      "*Banign\n",
      "-----------\n",
      "-Benign\n",
      "*Banign\n",
      "-----------\n",
      "-Benign\n",
      "*Banign\n",
      "-----------\n",
      "-Benign\n",
      "*Banign\n",
      "-----------\n",
      "-Benign\n",
      "*Banign\n",
      "-----------\n",
      "-Benign\n",
      "*Banign\n",
      "-----------\n",
      "-Malignant\n",
      "*Melignant\n",
      "-----------\n",
      "-Benign\n",
      "*Banign\n",
      "-----------\n",
      "-Malignant\n",
      "*Melignant\n",
      "-----------\n",
      "-Benign\n",
      "*Banign\n",
      "-----------\n",
      "-Benign\n",
      "*Banign\n",
      "-----------\n",
      "-Benign\n",
      "*Banign\n",
      "-----------\n"
     ]
    }
   ],
   "source": [
    "for i in range(30):\n",
    "  sample = X_test[i]\n",
    "  sample = np.reshape(sample, (1,30))\n",
    "\n",
    "  if (model.predict(sample)[0][0] > 0.5):\n",
    "    print(\"-Benign\")\n",
    "  else:\n",
    "    print(\"-Malignant\")\n",
    "\n",
    "  if (y_test[i] == 1):\n",
    "    print(\"*Banign\")\n",
    "  else:\n",
    "    print(\"*Melignant\")\n",
    "  print(\"-----------\")"
   ]
  },
  {
   "cell_type": "code",
   "execution_count": 25,
   "metadata": {
    "id": "9BqHv_pn867L"
   },
   "outputs": [
    {
     "name": "stdout",
     "output_type": "stream",
     "text": [
      "16\n"
     ]
    }
   ],
   "source": [
    "t = 0\n",
    "for i in y_val:\n",
    "  if (i == 1):\n",
    "    t += 1\n",
    "\n",
    "print(t)"
   ]
  },
  {
   "cell_type": "code",
   "execution_count": 26,
   "metadata": {
    "id": "rBBqR-XP9VpK"
   },
   "outputs": [
    {
     "name": "stdout",
     "output_type": "stream",
     "text": [
      "22\n"
     ]
    }
   ],
   "source": [
    "t = 0\n",
    "for i in y_test:\n",
    "  if (i == 1):\n",
    "    t += 1\n",
    "\n",
    "print(t)"
   ]
  },
  {
   "cell_type": "code",
   "execution_count": 27,
   "metadata": {
    "id": "wlZ0UePBEngy"
   },
   "outputs": [
    {
     "data": {
      "text/plain": [
       "array([-1.76449734e-01, -5.16690697e-02, -1.80952531e-01, -1.73237389e-01,\n",
       "       -1.46883471e-01, -1.57598638e-01, -2.10547724e-01, -2.61759536e-01,\n",
       "       -2.76515652e-01, -5.53204412e-02, -5.95620508e-02,  3.51716782e-02,\n",
       "       -5.67275761e-02, -6.31953366e-02,  5.18680666e-02,  6.52867418e-03,\n",
       "       -2.08347311e-05, -3.07202870e-02, -8.64222184e-02,  1.70176741e-02,\n",
       "       -1.87012302e-01, -1.00682682e-01, -1.90149180e-01, -1.85884656e-01,\n",
       "       -1.17617860e-01, -1.24005868e-01, -1.25796592e-01, -2.34327858e-01,\n",
       "       -4.29883829e-01, -1.02265362e-01])"
      ]
     },
     "execution_count": 27,
     "metadata": {},
     "output_type": "execute_result"
    }
   ],
   "source": [
    "X_test[0] * -.1"
   ]
  },
  {
   "cell_type": "code",
   "execution_count": 28,
   "metadata": {
    "id": "FBKtTu9mEtxP"
   },
   "outputs": [
    {
     "data": {
      "text/plain": [
       "0.9942857142857143"
      ]
     },
     "execution_count": 28,
     "metadata": {},
     "output_type": "execute_result"
    }
   ],
   "source": [
    "348/350"
   ]
  },
  {
   "cell_type": "code",
   "execution_count": 29,
   "metadata": {
    "id": "ddEotDrBGbam"
   },
   "outputs": [
    {
     "data": {
      "text/plain": [
       "0.9914285714285714"
      ]
     },
     "execution_count": 29,
     "metadata": {},
     "output_type": "execute_result"
    }
   ],
   "source": [
    "347/350"
   ]
  },
  {
   "cell_type": "code",
   "execution_count": 30,
   "metadata": {
    "id": "gQhg6wwTGckE"
   },
   "outputs": [
    {
     "data": {
      "text/plain": [
       "0.9142857142857143"
      ]
     },
     "execution_count": 30,
     "metadata": {},
     "output_type": "execute_result"
    }
   ],
   "source": [
    "32/35"
   ]
  },
  {
   "cell_type": "code",
   "execution_count": null,
   "metadata": {
    "id": "J-X2emHxGeZr"
   },
   "outputs": [],
   "source": []
  }
 ],
 "metadata": {
  "colab": {
   "collapsed_sections": [],
   "name": "Breast Cancer Detection",
   "private_outputs": true,
   "provenance": []
  },
  "kernelspec": {
   "display_name": "Python 3",
   "language": "python",
   "name": "python3"
  },
  "language_info": {
   "codemirror_mode": {
    "name": "ipython",
    "version": 3
   },
   "file_extension": ".py",
   "mimetype": "text/x-python",
   "name": "python",
   "nbconvert_exporter": "python",
   "pygments_lexer": "ipython3",
   "version": "3.8.8"
  }
 },
 "nbformat": 4,
 "nbformat_minor": 4
}
